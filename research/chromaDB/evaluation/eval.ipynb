{
 "cells": [
  {
   "cell_type": "code",
   "execution_count": 5,
   "metadata": {},
   "outputs": [],
   "source": [
    "import pandas as pd \n",
    "import numpy as np \n",
    "import openai\n",
    "import os \n",
    "from dotenv import load_dotenv\n"
   ]
  },
  {
   "cell_type": "code",
   "execution_count": 6,
   "metadata": {},
   "outputs": [
    {
     "data": {
      "text/plain": [
       "True"
      ]
     },
     "execution_count": 6,
     "metadata": {},
     "output_type": "execute_result"
    }
   ],
   "source": [
    "load_dotenv()"
   ]
  },
  {
   "cell_type": "code",
   "execution_count": 7,
   "metadata": {},
   "outputs": [
    {
     "name": "stdout",
     "output_type": "stream",
     "text": [
      "                                               response        label\n",
      "925   Your farmland's current nutrient levels, pH, a...  pomegranate\n",
      "698   Based on the data, mungbean is a suitable crop...     mungbean\n",
      "2     Based on your farmland's conditions, you shoul...         rice\n",
      "561   Based on your soil and environmental condition...    mothbeans\n",
      "626   Based on the conditions, mungbean seems like a...     mungbean\n",
      "...                                                 ...          ...\n",
      "323   Based on the conditions, kidney beans would be...  kidneybeans\n",
      "710   Based on the provided conditions, blackgram ap...    blackgram\n",
      "357   Based on your farmland data, growing kidney be...  kidneybeans\n",
      "451   Based on your farmland's soil and climate cond...   pigeonpeas\n",
      "1108  Considering the conditions of your farmland an...        mango\n",
      "\n",
      "[500 rows x 2 columns]\n"
     ]
    }
   ],
   "source": [
    "dataset = pd.read_csv('one_shot_responses.csv')\n",
    "# please take a random sample of 10 rows from the dataset\n",
    "sample = dataset.sample(500)\n",
    "# extract only the columns 'response' and 'label' from the sample\n",
    "sample = sample[['response', 'label']]\n",
    "# create a csv \n",
    "sample.to_csv('sample.csv', index=False)\n",
    "print(sample)\n",
    "\n",
    "\n"
   ]
  },
  {
   "cell_type": "code",
   "execution_count": 8,
   "metadata": {},
   "outputs": [],
   "source": [
    "API_KEY = os.getenv(\"OPENAI_API_KEY\")\n",
    "\n",
    "OPENAI_CLIENT = openai.OpenAI(\n",
    "    api_key=API_KEY,\n",
    ")"
   ]
  },
  {
   "cell_type": "code",
   "execution_count": 4,
   "metadata": {},
   "outputs": [],
   "source": [
    "def translate(user_prompt,language):\n",
    "    \n",
    "    \n",
    "    \n",
    "    \n",
    "    \n",
    "    completion_response = OPENAI_CLIENT.chat.completions.create(\n",
    "            model = 'gpt-4o',\n",
    "            messages=[\n",
    "                {\"role\": \"system\", \"content\": f\"Translate the following text to {language}\"},\n",
    "                {\"role\": \"user\", \"content\": f\"{user_prompt}\"}\n",
    "            ]\n",
    "        )\n",
    "    response =completion_response.choices[0].message.content\n",
    "    return response\n"
   ]
  },
  {
   "cell_type": "code",
   "execution_count": 8,
   "metadata": {},
   "outputs": [],
   "source": [
    "# transltate the sample to urdu punjabi and sidhi\n",
    "\n",
    "sample['urdu'] = sample['response'].apply(lambda x: translate(x, 'urdu'))\n",
    "sample['punjabi'] = sample['response'].apply(lambda x: translate(x, 'roman punjabi'))\n",
    "sample['sindhi'] = sample['response'].apply(lambda x: translate(x, 'sindhi'))\n",
    "\n",
    "# create a csv\n",
    "sample.to_csv('translated_sample.csv', index=False)\n"
   ]
  },
  {
   "cell_type": "code",
   "execution_count": 6,
   "metadata": {},
   "outputs": [
    {
     "data": {
      "text/html": [
       "<div>\n",
       "<style scoped>\n",
       "    .dataframe tbody tr th:only-of-type {\n",
       "        vertical-align: middle;\n",
       "    }\n",
       "\n",
       "    .dataframe tbody tr th {\n",
       "        vertical-align: top;\n",
       "    }\n",
       "\n",
       "    .dataframe thead th {\n",
       "        text-align: right;\n",
       "    }\n",
       "</style>\n",
       "<table border=\"1\" class=\"dataframe\">\n",
       "  <thead>\n",
       "    <tr style=\"text-align: right;\">\n",
       "      <th></th>\n",
       "      <th>nitrogen</th>\n",
       "      <th>phosphorus</th>\n",
       "      <th>potassium</th>\n",
       "      <th>temperature</th>\n",
       "      <th>humidity</th>\n",
       "      <th>pH</th>\n",
       "      <th>rainfall</th>\n",
       "      <th>response</th>\n",
       "      <th>label</th>\n",
       "      <th>y_pred</th>\n",
       "    </tr>\n",
       "  </thead>\n",
       "  <tbody>\n",
       "    <tr>\n",
       "      <th>0</th>\n",
       "      <td>90</td>\n",
       "      <td>42</td>\n",
       "      <td>43</td>\n",
       "      <td>20.879744</td>\n",
       "      <td>82.002744</td>\n",
       "      <td>6.502985</td>\n",
       "      <td>202.935536</td>\n",
       "      <td>You have suitable conditions for growing crops...</td>\n",
       "      <td>rice</td>\n",
       "      <td>0</td>\n",
       "    </tr>\n",
       "    <tr>\n",
       "      <th>1</th>\n",
       "      <td>85</td>\n",
       "      <td>58</td>\n",
       "      <td>41</td>\n",
       "      <td>21.770462</td>\n",
       "      <td>80.319644</td>\n",
       "      <td>7.038096</td>\n",
       "      <td>226.655537</td>\n",
       "      <td>Consider growing leafy vegetables like spinach...</td>\n",
       "      <td>rice</td>\n",
       "      <td>0</td>\n",
       "    </tr>\n",
       "    <tr>\n",
       "      <th>2</th>\n",
       "      <td>60</td>\n",
       "      <td>55</td>\n",
       "      <td>44</td>\n",
       "      <td>23.004459</td>\n",
       "      <td>82.320763</td>\n",
       "      <td>7.840207</td>\n",
       "      <td>263.964248</td>\n",
       "      <td>Try growing asparagus; it prefers slightly alk...</td>\n",
       "      <td>rice</td>\n",
       "      <td>0</td>\n",
       "    </tr>\n",
       "    <tr>\n",
       "      <th>3</th>\n",
       "      <td>74</td>\n",
       "      <td>35</td>\n",
       "      <td>40</td>\n",
       "      <td>26.491096</td>\n",
       "      <td>80.158363</td>\n",
       "      <td>6.980401</td>\n",
       "      <td>242.864034</td>\n",
       "      <td>You can grow rice, as the conditions of your f...</td>\n",
       "      <td>rice</td>\n",
       "      <td>1</td>\n",
       "    </tr>\n",
       "    <tr>\n",
       "      <th>4</th>\n",
       "      <td>78</td>\n",
       "      <td>42</td>\n",
       "      <td>42</td>\n",
       "      <td>20.130175</td>\n",
       "      <td>81.604873</td>\n",
       "      <td>7.628473</td>\n",
       "      <td>262.717340</td>\n",
       "      <td>Considering the soil and weather conditions, y...</td>\n",
       "      <td>rice</td>\n",
       "      <td>0</td>\n",
       "    </tr>\n",
       "  </tbody>\n",
       "</table>\n",
       "</div>"
      ],
      "text/plain": [
       "   nitrogen  phosphorus  potassium  temperature   humidity        pH  \\\n",
       "0        90          42         43    20.879744  82.002744  6.502985   \n",
       "1        85          58         41    21.770462  80.319644  7.038096   \n",
       "2        60          55         44    23.004459  82.320763  7.840207   \n",
       "3        74          35         40    26.491096  80.158363  6.980401   \n",
       "4        78          42         42    20.130175  81.604873  7.628473   \n",
       "\n",
       "     rainfall                                           response label  y_pred  \n",
       "0  202.935536  You have suitable conditions for growing crops...  rice       0  \n",
       "1  226.655537  Consider growing leafy vegetables like spinach...  rice       0  \n",
       "2  263.964248  Try growing asparagus; it prefers slightly alk...  rice       0  \n",
       "3  242.864034  You can grow rice, as the conditions of your f...  rice       1  \n",
       "4  262.717340  Considering the soil and weather conditions, y...  rice       0  "
      ]
     },
     "execution_count": 6,
     "metadata": {},
     "output_type": "execute_result"
    }
   ],
   "source": [
    "# \n",
    "dataset = pd.read_csv('zero_shot_responses.csv')\n",
    "dataset.head()"
   ]
  },
  {
   "cell_type": "code",
   "execution_count": 7,
   "metadata": {},
   "outputs": [
    {
     "name": "stdout",
     "output_type": "stream",
     "text": [
      "Accuracy for rice: 0.61\n",
      "['rice' 'maize' 'chickpea' 'kidneybeans' 'pigeonpeas' 'mothbeans'\n",
      " 'mungbean']\n",
      "Accuracy for maize: 0.13\n",
      "Accuracy for chickpea: 0.0\n",
      "Accuracy for kidneybeans: 0.0\n",
      "Accuracy for pigeonpeas: 0.0\n",
      "Accuracy for mothbeans: 0.0\n",
      "Accuracy for mungbean: 0.0\n"
     ]
    },
    {
     "data": {
      "image/png": "[encoded data removed]",
      "text/plain": [
       "<Figure size 1000x500 with 1 Axes>"
      ]
     },
     "metadata": {},
     "output_type": "display_data"
    }
   ],
   "source": [
    "rice = dataset[dataset['label'] == 'rice']\n",
    "# accuracy for rice\n",
    "rice_accuracy = sum(rice['y_pred'] ) / len(rice)\n",
    "print(f'Accuracy for rice: {rice_accuracy}')\n",
    "\n",
    "# columns \n",
    "print(dataset['label'].unique())    \n",
    "# do the same for the other labels\n",
    "\n",
    "# accuracy for maize 'chickpea' 'kidneybeans' 'pigeonpeas' 'mothbeans''mungbean'\n",
    "maize = dataset[dataset['label'] == 'maize']\n",
    "maize_accuracy = sum(maize['y_pred']) / len(maize)\n",
    "print(f'Accuracy for maize: {maize_accuracy}')\n",
    "\n",
    "\n",
    "chickpea = dataset[dataset['label'] == 'chickpea']\n",
    "chickpea_accuracy = sum(chickpea['y_pred']) / len(chickpea)\n",
    "print(f'Accuracy for chickpea: {chickpea_accuracy}')\n",
    "\n",
    "kidneybeans = dataset[dataset['label'] == 'kidneybeans']\n",
    "kidneybeans_accuracy = sum(kidneybeans['y_pred']) / len(kidneybeans)\n",
    "print(f'Accuracy for kidneybeans: {kidneybeans_accuracy}')\n",
    "\n",
    "pigeonpeas = dataset[dataset['label'] == 'pigeonpeas']\n",
    "pigeonpeas_accuracy = sum(pigeonpeas['y_pred']) / len(pigeonpeas)\n",
    "print(f'Accuracy for pigeonpeas: {pigeonpeas_accuracy}')\n",
    "\n",
    "mothbeans = dataset[dataset['label'] == 'mothbeans']\n",
    "mothbeans_accuracy = sum(mothbeans['y_pred']) / len(mothbeans)\n",
    "print(f'Accuracy for mothbeans: {mothbeans_accuracy}')\n",
    "\n",
    "\n",
    "mungbean = dataset[dataset['label'] == 'mungbean']\n",
    "# print(mungbean)\n",
    "mungbean_accuracy = sum(mungbean['y_pred']) / len(mungbean)\n",
    "print(f'Accuracy for mungbean: {mungbean_accuracy}')\n",
    "\n",
    "# now plot theses accuracies with a bar plot with x axis as the labels and y axis as the accuracies\n",
    "llama_accuracies = [0.26,0.15,0,0,0,0,0]\n",
    "import matplotlib.pyplot as plt\n",
    "labels = ['rice', 'maize', 'chickpea', 'kidneybeans', 'pigeonpeas', 'mothbeans', 'mungbean']\n",
    "accuracies = [rice_accuracy, maize_accuracy, chickpea_accuracy, kidneybeans_accuracy, pigeonpeas_accuracy, mothbeans_accuracy, mungbean_accuracy]\n",
    "# PLOT LAMA ACCURACIES SIDE BY SIDE WITH THE MODEL ACCURACIES\n",
    "fig, ax = plt.subplots(figsize=(10, 5))  # Set the figure size here\n",
    "bar_width = 0.35\n",
    "index = np.arange(len(labels))\n",
    "lama = ax.bar(index, llama_accuracies, bar_width, label='Lama')\n",
    "model = ax.bar(index + bar_width, accuracies, bar_width, label='gpt-4o')\n",
    "ax.set_xlabel('Labels')\n",
    "ax.set_ylabel('Accuracies')\n",
    "ax.set_title('Accuracies of Lama and gpt-4o ')\n",
    "ax.set_xticks(index + bar_width / 2)\n",
    "ax.set_xticklabels(labels, rotation=45)  # Set the x-tick labels here\n",
    "ax.legend()\n",
    "plt.show()\n",
    "\n"
   ]
  }
 ],
 "metadata": {
  "kernelspec": {
   "display_name": "Python 3",
   "language": "python",
   "name": "python3"
  },
  "language_info": {
   "codemirror_mode": {
    "name": "ipython",
    "version": 3
   },
   "file_extension": ".py",
   "mimetype": "text/x-python",
   "name": "python",
   "nbconvert_exporter": "python",
   "pygments_lexer": "ipython3",
   "version": "3.10.11"
  }
 },
 "nbformat": 4,
 "nbformat_minor": 2
}
