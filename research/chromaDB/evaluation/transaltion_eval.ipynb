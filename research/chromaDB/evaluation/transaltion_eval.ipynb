{
 "cells": [
  {
   "cell_type": "code",
   "execution_count": 1,
   "metadata": {},
   "outputs": [],
   "source": [
    "import pandas as pd \n",
    "import numpy as np\n",
    "import evaluate\n",
    "\n",
    "\n"
   ]
  },
  {
   "cell_type": "code",
   "execution_count": 7,
   "metadata": {},
   "outputs": [
    {
     "name": "stdout",
     "output_type": "stream",
     "text": [
      "Requirement already satisfied: rouge_score in c:\\users\\hp\\appdata\\local\\packages\\pythonsoftwarefoundation.python.3.10_qbz5n2kfra8p0\\localcache\\local-packages\\python310\\site-packages (0.1.2)\n",
      "Requirement already satisfied: absl-py in c:\\users\\hp\\appdata\\local\\packages\\pythonsoftwarefoundation.python.3.10_qbz5n2kfra8p0\\localcache\\local-packages\\python310\\site-packages (from rouge_score) (2.1.0)\n",
      "Requirement already satisfied: nltk in c:\\users\\hp\\appdata\\local\\packages\\pythonsoftwarefoundation.python.3.10_qbz5n2kfra8p0\\localcache\\local-packages\\python310\\site-packages (from rouge_score) (3.8.1)\n",
      "Requirement already satisfied: numpy in c:\\users\\hp\\appdata\\local\\packages\\pythonsoftwarefoundation.python.3.10_qbz5n2kfra8p0\\localcache\\local-packages\\python310\\site-packages (from rouge_score) (1.25.1)\n",
      "Requirement already satisfied: six>=1.14.0 in c:\\users\\hp\\appdata\\local\\packages\\pythonsoftwarefoundation.python.3.10_qbz5n2kfra8p0\\localcache\\local-packages\\python310\\site-packages (from rouge_score) (1.16.0)\n",
      "Requirement already satisfied: click in c:\\users\\hp\\appdata\\local\\packages\\pythonsoftwarefoundation.python.3.10_qbz5n2kfra8p0\\localcache\\local-packages\\python310\\site-packages (from nltk->rouge_score) (8.1.7)\n",
      "Requirement already satisfied: joblib in c:\\users\\hp\\appdata\\local\\packages\\pythonsoftwarefoundation.python.3.10_qbz5n2kfra8p0\\localcache\\local-packages\\python310\\site-packages (from nltk->rouge_score) (1.3.2)\n",
      "Requirement already satisfied: regex>=2021.8.3 in c:\\users\\hp\\appdata\\local\\packages\\pythonsoftwarefoundation.python.3.10_qbz5n2kfra8p0\\localcache\\local-packages\\python310\\site-packages (from nltk->rouge_score) (2023.10.3)\n",
      "Requirement already satisfied: tqdm in c:\\users\\hp\\appdata\\local\\packages\\pythonsoftwarefoundation.python.3.10_qbz5n2kfra8p0\\localcache\\local-packages\\python310\\site-packages (from nltk->rouge_score) (4.66.1)\n",
      "Requirement already satisfied: colorama in c:\\users\\hp\\appdata\\local\\packages\\pythonsoftwarefoundation.python.3.10_qbz5n2kfra8p0\\localcache\\local-packages\\python310\\site-packages (from click->nltk->rouge_score) (0.4.6)\n"
     ]
    },
    {
     "name": "stderr",
     "output_type": "stream",
     "text": [
      "\n",
      "[notice] A new release of pip is available: 23.3.2 -> 24.0\n",
      "[notice] To update, run: C:\\Users\\HP\\AppData\\Local\\Microsoft\\WindowsApps\\PythonSoftwareFoundation.Python.3.10_qbz5n2kfra8p0\\python.exe -m pip install --upgrade pip\n",
      "\n",
      "[notice] A new release of pip is available: 23.3.2 -> 24.0\n",
      "[notice] To update, run: C:\\Users\\HP\\AppData\\Local\\Microsoft\\WindowsApps\\PythonSoftwareFoundation.Python.3.10_qbz5n2kfra8p0\\python.exe -m pip install --upgrade pip\n"
     ]
    },
    {
     "name": "stdout",
     "output_type": "stream",
     "text": [
      "Collecting bert_score\n",
      "  Downloading bert_score-0.3.13-py3-none-any.whl.metadata (15 kB)\n",
      "Requirement already satisfied: torch>=1.0.0 in c:\\users\\hp\\appdata\\local\\packages\\pythonsoftwarefoundation.python.3.10_qbz5n2kfra8p0\\localcache\\local-packages\\python310\\site-packages (from bert_score) (2.1.2)\n",
      "Requirement already satisfied: pandas>=1.0.1 in c:\\users\\hp\\appdata\\local\\packages\\pythonsoftwarefoundation.python.3.10_qbz5n2kfra8p0\\localcache\\local-packages\\python310\\site-packages (from bert_score) (2.0.3)\n",
      "Requirement already satisfied: transformers>=3.0.0 in c:\\users\\hp\\appdata\\local\\packages\\pythonsoftwarefoundation.python.3.10_qbz5n2kfra8p0\\localcache\\local-packages\\python310\\site-packages (from bert_score) (4.38.0.dev0)\n",
      "Requirement already satisfied: numpy in c:\\users\\hp\\appdata\\local\\packages\\pythonsoftwarefoundation.python.3.10_qbz5n2kfra8p0\\localcache\\local-packages\\python310\\site-packages (from bert_score) (1.25.1)\n",
      "Requirement already satisfied: requests in c:\\users\\hp\\appdata\\local\\packages\\pythonsoftwarefoundation.python.3.10_qbz5n2kfra8p0\\localcache\\local-packages\\python310\\site-packages (from bert_score) (2.31.0)\n",
      "Requirement already satisfied: tqdm>=4.31.1 in c:\\users\\hp\\appdata\\local\\packages\\pythonsoftwarefoundation.python.3.10_qbz5n2kfra8p0\\localcache\\local-packages\\python310\\site-packages (from bert_score) (4.66.1)\n",
      "Requirement already satisfied: matplotlib in c:\\users\\hp\\appdata\\local\\packages\\pythonsoftwarefoundation.python.3.10_qbz5n2kfra8p0\\localcache\\local-packages\\python310\\site-packages (from bert_score) (3.7.2)\n",
      "Requirement already satisfied: packaging>=20.9 in c:\\users\\hp\\appdata\\local\\packages\\pythonsoftwarefoundation.python.3.10_qbz5n2kfra8p0\\localcache\\local-packages\\python310\\site-packages (from bert_score) (23.2)\n",
      "Requirement already satisfied: python-dateutil>=2.8.2 in c:\\users\\hp\\appdata\\local\\packages\\pythonsoftwarefoundation.python.3.10_qbz5n2kfra8p0\\localcache\\local-packages\\python310\\site-packages (from pandas>=1.0.1->bert_score) (2.8.2)\n",
      "Requirement already satisfied: pytz>=2020.1 in c:\\users\\hp\\appdata\\local\\packages\\pythonsoftwarefoundation.python.3.10_qbz5n2kfra8p0\\localcache\\local-packages\\python310\\site-packages (from pandas>=1.0.1->bert_score) (2023.3)\n",
      "Requirement already satisfied: tzdata>=2022.1 in c:\\users\\hp\\appdata\\local\\packages\\pythonsoftwarefoundation.python.3.10_qbz5n2kfra8p0\\localcache\\local-packages\\python310\\site-packages (from pandas>=1.0.1->bert_score) (2023.3)\n",
      "Requirement already satisfied: filelock in c:\\users\\hp\\appdata\\local\\packages\\pythonsoftwarefoundation.python.3.10_qbz5n2kfra8p0\\localcache\\local-packages\\python310\\site-packages (from torch>=1.0.0->bert_score) (3.12.4)\n",
      "Requirement already satisfied: typing-extensions in c:\\users\\hp\\appdata\\local\\packages\\pythonsoftwarefoundation.python.3.10_qbz5n2kfra8p0\\localcache\\local-packages\\python310\\site-packages (from torch>=1.0.0->bert_score) (4.8.0)\n",
      "Requirement already satisfied: sympy in c:\\users\\hp\\appdata\\local\\packages\\pythonsoftwarefoundation.python.3.10_qbz5n2kfra8p0\\localcache\\local-packages\\python310\\site-packages (from torch>=1.0.0->bert_score) (1.12)\n",
      "Requirement already satisfied: networkx in c:\\users\\hp\\appdata\\local\\packages\\pythonsoftwarefoundation.python.3.10_qbz5n2kfra8p0\\localcache\\local-packages\\python310\\site-packages (from torch>=1.0.0->bert_score) (3.2.1)\n",
      "Requirement already satisfied: jinja2 in c:\\users\\hp\\appdata\\local\\packages\\pythonsoftwarefoundation.python.3.10_qbz5n2kfra8p0\\localcache\\local-packages\\python310\\site-packages (from torch>=1.0.0->bert_score) (3.1.2)\n",
      "Requirement already satisfied: fsspec in c:\\users\\hp\\appdata\\local\\packages\\pythonsoftwarefoundation.python.3.10_qbz5n2kfra8p0\\localcache\\local-packages\\python310\\site-packages (from torch>=1.0.0->bert_score) (2023.9.2)\n",
      "Requirement already satisfied: colorama in c:\\users\\hp\\appdata\\local\\packages\\pythonsoftwarefoundation.python.3.10_qbz5n2kfra8p0\\localcache\\local-packages\\python310\\site-packages (from tqdm>=4.31.1->bert_score) (0.4.6)\n",
      "Requirement already satisfied: huggingface-hub<1.0,>=0.19.3 in c:\\users\\hp\\appdata\\local\\packages\\pythonsoftwarefoundation.python.3.10_qbz5n2kfra8p0\\localcache\\local-packages\\python310\\site-packages (from transformers>=3.0.0->bert_score) (0.20.3)\n",
      "Requirement already satisfied: pyyaml>=5.1 in c:\\users\\hp\\appdata\\local\\packages\\pythonsoftwarefoundation.python.3.10_qbz5n2kfra8p0\\localcache\\local-packages\\python310\\site-packages (from transformers>=3.0.0->bert_score) (6.0.1)\n",
      "Requirement already satisfied: regex!=2019.12.17 in c:\\users\\hp\\appdata\\local\\packages\\pythonsoftwarefoundation.python.3.10_qbz5n2kfra8p0\\localcache\\local-packages\\python310\\site-packages (from transformers>=3.0.0->bert_score) (2023.10.3)\n",
      "Requirement already satisfied: tokenizers<0.19,>=0.14 in c:\\users\\hp\\appdata\\local\\packages\\pythonsoftwarefoundation.python.3.10_qbz5n2kfra8p0\\localcache\\local-packages\\python310\\site-packages (from transformers>=3.0.0->bert_score) (0.15.0)\n",
      "Requirement already satisfied: safetensors>=0.4.1 in c:\\users\\hp\\appdata\\local\\packages\\pythonsoftwarefoundation.python.3.10_qbz5n2kfra8p0\\localcache\\local-packages\\python310\\site-packages (from transformers>=3.0.0->bert_score) (0.4.1)\n",
      "Requirement already satisfied: contourpy>=1.0.1 in c:\\users\\hp\\appdata\\local\\packages\\pythonsoftwarefoundation.python.3.10_qbz5n2kfra8p0\\localcache\\local-packages\\python310\\site-packages (from matplotlib->bert_score) (1.1.0)\n",
      "Requirement already satisfied: cycler>=0.10 in c:\\users\\hp\\appdata\\local\\packages\\pythonsoftwarefoundation.python.3.10_qbz5n2kfra8p0\\localcache\\local-packages\\python310\\site-packages (from matplotlib->bert_score) (0.10.0)\n",
      "Requirement already satisfied: fonttools>=4.22.0 in c:\\users\\hp\\appdata\\local\\packages\\pythonsoftwarefoundation.python.3.10_qbz5n2kfra8p0\\localcache\\local-packages\\python310\\site-packages (from matplotlib->bert_score) (4.41.1)\n",
      "Requirement already satisfied: kiwisolver>=1.0.1 in c:\\users\\hp\\appdata\\local\\packages\\pythonsoftwarefoundation.python.3.10_qbz5n2kfra8p0\\localcache\\local-packages\\python310\\site-packages (from matplotlib->bert_score) (1.4.4)\n",
      "Requirement already satisfied: pillow>=6.2.0 in c:\\users\\hp\\appdata\\local\\packages\\pythonsoftwarefoundation.python.3.10_qbz5n2kfra8p0\\localcache\\local-packages\\python310\\site-packages (from matplotlib->bert_score) (10.0.0)\n",
      "Requirement already satisfied: pyparsing<3.1,>=2.3.1 in c:\\users\\hp\\appdata\\local\\packages\\pythonsoftwarefoundation.python.3.10_qbz5n2kfra8p0\\localcache\\local-packages\\python310\\site-packages (from matplotlib->bert_score) (3.0.9)\n",
      "Requirement already satisfied: charset-normalizer<4,>=2 in c:\\users\\hp\\appdata\\local\\packages\\pythonsoftwarefoundation.python.3.10_qbz5n2kfra8p0\\localcache\\local-packages\\python310\\site-packages (from requests->bert_score) (3.3.0)\n",
      "Requirement already satisfied: idna<4,>=2.5 in c:\\users\\hp\\appdata\\local\\packages\\pythonsoftwarefoundation.python.3.10_qbz5n2kfra8p0\\localcache\\local-packages\\python310\\site-packages (from requests->bert_score) (2.10)\n",
      "Requirement already satisfied: urllib3<3,>=1.21.1 in c:\\users\\hp\\appdata\\local\\packages\\pythonsoftwarefoundation.python.3.10_qbz5n2kfra8p0\\localcache\\local-packages\\python310\\site-packages (from requests->bert_score) (2.0.6)\n",
      "Requirement already satisfied: certifi>=2017.4.17 in c:\\users\\hp\\appdata\\local\\packages\\pythonsoftwarefoundation.python.3.10_qbz5n2kfra8p0\\localcache\\local-packages\\python310\\site-packages (from requests->bert_score) (2023.7.22)\n",
      "Requirement already satisfied: six in c:\\users\\hp\\appdata\\local\\packages\\pythonsoftwarefoundation.python.3.10_qbz5n2kfra8p0\\localcache\\local-packages\\python310\\site-packages (from cycler>=0.10->matplotlib->bert_score) (1.16.0)\n",
      "Requirement already satisfied: MarkupSafe>=2.0 in c:\\users\\hp\\appdata\\local\\packages\\pythonsoftwarefoundation.python.3.10_qbz5n2kfra8p0\\localcache\\local-packages\\python310\\site-packages (from jinja2->torch>=1.0.0->bert_score) (2.1.3)\n",
      "Requirement already satisfied: mpmath>=0.19 in c:\\users\\hp\\appdata\\local\\packages\\pythonsoftwarefoundation.python.3.10_qbz5n2kfra8p0\\localcache\\local-packages\\python310\\site-packages (from sympy->torch>=1.0.0->bert_score) (1.3.0)\n",
      "Downloading bert_score-0.3.13-py3-none-any.whl (61 kB)\n",
      "   ---------------------------------------- 0.0/61.1 kB ? eta -:--:--\n",
      "   ------ --------------------------------- 10.2/61.1 kB ? eta -:--:--\n",
      "   -------------------- ------------------- 30.7/61.1 kB 660.6 kB/s eta 0:00:01\n",
      "   -------------------- ------------------- 30.7/61.1 kB 660.6 kB/s eta 0:00:01\n",
      "   ---------------------------------------- 61.1/61.1 kB 361.0 kB/s eta 0:00:00\n",
      "Installing collected packages: bert_score\n",
      "Successfully installed bert_score-0.3.13\n",
      "{'rouge1': 1.0, 'rouge2': 1.0, 'rougeL': 1.0, 'rougeLsum': 1.0}\n"
     ]
    }
   ],
   "source": [
    "!pip install rouge_score\n",
    "!pip install bert_score\n",
    "rouge = evaluate.load('rouge')\n",
    "\n",
    "# Define the candidate predictions and reference sentences\n",
    "predictions = [\"hello there\", \"general kenobi\"]\n",
    "references = [\"hello there\", \"general kenobi\"]\n",
    "\n",
    "# Compute the ROUGE score\n",
    "results = rouge.compute(predictions=predictions, references=references)\n",
    "\n",
    "# Print the results\n",
    "print(results)\n"
   ]
  },
  {
   "cell_type": "code",
   "execution_count": 5,
   "metadata": {},
   "outputs": [
    {
     "name": "stdout",
     "output_type": "stream",
     "text": [
      "Google urdu: 500\n",
      "Google sindhi: 500\n",
      "GPT4 urdu: 500\n",
      "GPT4 sindhi: 500\n",
      "GPT3 urdu: 500\n",
      "GPT3 sindhi: 500\n"
     ]
    }
   ],
   "source": [
    "labels = pd.read_csv('google_responses.csv')\n",
    "\n",
    "google_urdu = labels['responses_urdu'].tolist()\n",
    "google_sindhi = labels['responses_sindhi'].tolist()\n",
    "\n",
    "gpt4 = pd.read_csv('google_ref_gpt4o.csv')\n",
    "\n",
    "gpt4_urdu = gpt4['responses_urdu'].tolist()\n",
    "gpt4_sindhi = gpt4['responses_sindhi'].tolist()\n",
    "\n",
    "\n",
    "gpt3 = pd.read_csv('google_ref_gpt3.5.csv')\n",
    "\n",
    "gpt3_urdu = gpt3['responses_urdu'].tolist()\n",
    "gpt3_sindhi = gpt3['responses_sindhi'].tolist()\n",
    "\n",
    "\n",
    "# print all the lengths\n",
    "print(f'Google urdu: {len(google_urdu)}')\n",
    "print(f'Google sindhi: {len(google_sindhi)}')\n",
    "print(f'GPT4 urdu: {len(gpt4_urdu)}')\n",
    "print(f'GPT4 sindhi: {len(gpt4_sindhi)}')\n",
    "print(f'GPT3 urdu: {len(gpt3_urdu)}')\n",
    "print(f'GPT3 sindhi: {len(gpt3_sindhi)}')\n",
    "\n"
   ]
  },
  {
   "cell_type": "code",
   "execution_count": 6,
   "metadata": {},
   "outputs": [
    {
     "name": "stdout",
     "output_type": "stream",
     "text": [
      "{'rouge1': 0.148, 'rouge2': 0.022, 'rougeL': 0.146, 'rougeLsum': 0.148}\n",
      "{'rouge1': 0.076, 'rouge2': 0.014, 'rougeL': 0.078, 'rougeLsum': 0.076}\n",
      "{'rouge1': 0.004, 'rouge2': 0.0, 'rougeL': 0.004, 'rougeLsum': 0.004}\n",
      "{'rouge1': 0.0, 'rouge2': 0.0, 'rougeL': 0.0, 'rougeLsum': 0.0}\n"
     ]
    }
   ],
   "source": [
    "\n",
    "res = rouge.compute(predictions=gpt4_urdu, references=google_urdu)\n",
    "print(res)\n",
    "\n",
    "res = rouge.compute(predictions=gpt4_sindhi, references=google_sindhi)\n",
    "print(res)\n",
    "\n",
    "res = rouge.compute(predictions=gpt3_urdu, references=google_urdu)\n",
    "print(res)\n",
    "\n",
    "res = rouge.compute(predictions=gpt3_sindhi, references=google_sindhi)\n",
    "print(res)\n",
    "\n",
    "\n",
    "\n"
   ]
  },
  {
   "cell_type": "code",
   "execution_count": 12,
   "metadata": {},
   "outputs": [
    {
     "name": "stdout",
     "output_type": "stream",
     "text": [
      "Gpt -4o Urdu 0.999999996\n",
      "Gpt -4o Sindhi 0.999999996\n",
      "Gpt -3.5 Urdu 0.16\n",
      "Gpt -3.5 Sindhi 0.183\n"
     ]
    }
   ],
   "source": [
    "\n",
    "import nltk\n",
    "from nltk.translate.meteor_score import meteor_score\n",
    "\n",
    "def compute_meteor(prediction, reference):\n",
    "    return meteor_score([reference], prediction)\n",
    "\n",
    "\n",
    "res = compute_meteor(gpt4_urdu, google_urdu)\n",
    "print(\"Gpt -4o Urdu\",res)\n",
    "\n",
    "res = compute_meteor(gpt4_sindhi, google_sindhi)\n",
    "print(\"Gpt -4o Sindhi\",res)\n",
    "\n",
    "\n",
    "res = compute_meteor(gpt3_urdu, google_urdu)\n",
    "print(\"Gpt -3.5 Urdu\",res)\n",
    "\n",
    "res = compute_meteor(gpt3_sindhi, google_sindhi)\n",
    "print(\"Gpt -3.5 Sindhi\",res)\n",
    "\n",
    "\n",
    "\n"
   ]
  },
  {
   "cell_type": "code",
   "execution_count": 9,
   "metadata": {},
   "outputs": [
    {
     "data": {
      "application/vnd.jupyter.widget-view+json": {
       "model_id": "1156a3e7751d4c589cbd84f6ee8eb9d5",
       "version_major": 2,
       "version_minor": 0
      },
      "text/plain": [
       "tokenizer_config.json:   0%|          | 0.00/49.0 [00:00<?, ?B/s]"
      ]
     },
     "metadata": {},
     "output_type": "display_data"
    },
    {
     "name": "stderr",
     "output_type": "stream",
     "text": [
      "C:\\Users\\HP\\AppData\\Local\\Packages\\PythonSoftwareFoundation.Python.3.10_qbz5n2kfra8p0\\LocalCache\\local-packages\\Python310\\site-packages\\huggingface_hub\\file_download.py:149: UserWarning: `huggingface_hub` cache-system uses symlinks by default to efficiently store duplicated files but your machine does not support them in C:\\Users\\HP\\.cache\\huggingface\\hub\\models--bert-base-multilingual-cased. Caching files will still work but in a degraded version that might require more space on your disk. This warning can be disabled by setting the `HF_HUB_DISABLE_SYMLINKS_WARNING` environment variable. For more details, see https://huggingface.co/docs/huggingface_hub/how-to-cache#limitations.\n",
      "To support symlinks on Windows, you either need to activate Developer Mode or to run Python as an administrator. In order to see activate developer mode, see this article: https://docs.microsoft.com/en-us/windows/apps/get-started/enable-your-device-for-development\n",
      "  warnings.warn(message)\n"
     ]
    },
    {
     "data": {
      "application/vnd.jupyter.widget-view+json": {
       "model_id": "0de3a2bf01b34f28843577029dcc2983",
       "version_major": 2,
       "version_minor": 0
      },
      "text/plain": [
       "config.json:   0%|          | 0.00/625 [00:00<?, ?B/s]"
      ]
     },
     "metadata": {},
     "output_type": "display_data"
    },
    {
     "data": {
      "application/vnd.jupyter.widget-view+json": {
       "model_id": "dab69281d7fa47ceb42b2c26cbd26523",
       "version_major": 2,
       "version_minor": 0
      },
      "text/plain": [
       "vocab.txt:   0%|          | 0.00/996k [00:00<?, ?B/s]"
      ]
     },
     "metadata": {},
     "output_type": "display_data"
    },
    {
     "data": {
      "application/vnd.jupyter.widget-view+json": {
       "model_id": "2418802d67dc43c38bd2e696802018af",
       "version_major": 2,
       "version_minor": 0
      },
      "text/plain": [
       "tokenizer.json:   0%|          | 0.00/1.96M [00:00<?, ?B/s]"
      ]
     },
     "metadata": {},
     "output_type": "display_data"
    },
    {
     "data": {
      "application/vnd.jupyter.widget-view+json": {
       "model_id": "666d026909a645cfb6e53899e03a0663",
       "version_major": 2,
       "version_minor": 0
      },
      "text/plain": [
       "model.safetensors:   0%|          | 0.00/714M [00:00<?, ?B/s]"
      ]
     },
     "metadata": {},
     "output_type": "display_data"
    },
    {
     "name": "stderr",
     "output_type": "stream",
     "text": [
      "Error while downloading from https://cdn-lfs.huggingface.co/bert-base-multilingual-cased/876f584f15ebf14887dec17539c114bb99a032e96b9e72507a51c41e205337fc?response-content-disposition=attachment%3B+filename*%3DUTF-8%27%27model.safetensors%3B+filename%3D%22model.safetensors%22%3B&Expires=1717793508&Policy=eyJTdGF0ZW1lbnQiOlt7IkNvbmRpdGlvbiI6eyJEYXRlTGVzc1RoYW4iOnsiQVdTOkVwb2NoVGltZSI6MTcxNzc5MzUwOH19LCJSZXNvdXJjZSI6Imh0dHBzOi8vY2RuLWxmcy5odWdnaW5nZmFjZS5jby9iZXJ0LWJhc2UtbXVsdGlsaW5ndWFsLWNhc2VkLzg3NmY1ODRmMTVlYmYxNDg4N2RlYzE3NTM5YzExNGJiOTlhMDMyZTk2YjllNzI1MDdhNTFjNDFlMjA1MzM3ZmM%7EcmVzcG9uc2UtY29udGVudC1kaXNwb3NpdGlvbj0qIn1dfQ__&Signature=DBmKRpiKERQA7ojd5DOCDvjXd59k3tecJ8JpdDxHseDawVqJpSp%7E6eweb3uZU04fWsKY34EtnvO5Jr0ww6OqsIBdOs07fEFQcqQCEXS8FlS4b%7ED0x2kfWfb%7EEoMyFioYWPZOsmXHFe13nafqOEHkwH71A2l8T9E0q1K8-NgUD5CmqZxt21eBLBNDGE2KOIn3wb%7EZ0QyYF-Jf-y-sfNQt9PxBXWN3Gy4oXkfBWo74GD7QryEOlN43BrWXnuWez%7EDx1sdZMIgluzsM3vtWsxmrNmSYpXjNW5Qy3SkF7mHMN%7EjJAH1x5EKUg7gongJO0GfjiuKMNpvMm9qsRBmq4ohE6g__&Key-Pair-Id=KVTP0A1DKRTAX: HTTPSConnectionPool(host='cdn-lfs.huggingface.co', port=443): Read timed out.\n",
      "Trying to resume download...\n",
      "WARNING:huggingface_hub.file_download:Error while downloading from https://cdn-lfs.huggingface.co/bert-base-multilingual-cased/876f584f15ebf14887dec17539c114bb99a032e96b9e72507a51c41e205337fc?response-content-disposition=attachment%3B+filename*%3DUTF-8%27%27model.safetensors%3B+filename%3D%22model.safetensors%22%3B&Expires=1717793508&Policy=eyJTdGF0ZW1lbnQiOlt7IkNvbmRpdGlvbiI6eyJEYXRlTGVzc1RoYW4iOnsiQVdTOkVwb2NoVGltZSI6MTcxNzc5MzUwOH19LCJSZXNvdXJjZSI6Imh0dHBzOi8vY2RuLWxmcy5odWdnaW5nZmFjZS5jby9iZXJ0LWJhc2UtbXVsdGlsaW5ndWFsLWNhc2VkLzg3NmY1ODRmMTVlYmYxNDg4N2RlYzE3NTM5YzExNGJiOTlhMDMyZTk2YjllNzI1MDdhNTFjNDFlMjA1MzM3ZmM%7EcmVzcG9uc2UtY29udGVudC1kaXNwb3NpdGlvbj0qIn1dfQ__&Signature=DBmKRpiKERQA7ojd5DOCDvjXd59k3tecJ8JpdDxHseDawVqJpSp%7E6eweb3uZU04fWsKY34EtnvO5Jr0ww6OqsIBdOs07fEFQcqQCEXS8FlS4b%7ED0x2kfWfb%7EEoMyFioYWPZOsmXHFe13nafqOEHkwH71A2l8T9E0q1K8-NgUD5CmqZxt21eBLBNDGE2KOIn3wb%7EZ0QyYF-Jf-y-sfNQt9PxBXWN3Gy4oXkfBWo74GD7QryEOlN43BrWXnuWez%7EDx1sdZMIgluzsM3vtWsxmrNmSYpXjNW5Qy3SkF7mHMN%7EjJAH1x5EKUg7gongJO0GfjiuKMNpvMm9qsRBmq4ohE6g__&Key-Pair-Id=KVTP0A1DKRTAX: HTTPSConnectionPool(host='cdn-lfs.huggingface.co', port=443): Read timed out.\n",
      "Trying to resume download...\n"
     ]
    },
    {
     "data": {
      "application/vnd.jupyter.widget-view+json": {
       "model_id": "799c5ba2328f4a19897efc683e3de6a6",
       "version_major": 2,
       "version_minor": 0
      },
      "text/plain": [
       "model.safetensors:  78%|#######7  | 556M/714M [00:00<?, ?B/s]"
      ]
     },
     "metadata": {},
     "output_type": "display_data"
    },
    {
     "name": "stderr",
     "output_type": "stream",
     "text": [
      "Error while downloading from https://cdn-lfs.huggingface.co/bert-base-multilingual-cased/876f584f15ebf14887dec17539c114bb99a032e96b9e72507a51c41e205337fc?response-content-disposition=attachment%3B+filename*%3DUTF-8%27%27model.safetensors%3B+filename%3D%22model.safetensors%22%3B&Expires=1717793508&Policy=eyJTdGF0ZW1lbnQiOlt7IkNvbmRpdGlvbiI6eyJEYXRlTGVzc1RoYW4iOnsiQVdTOkVwb2NoVGltZSI6MTcxNzc5MzUwOH19LCJSZXNvdXJjZSI6Imh0dHBzOi8vY2RuLWxmcy5odWdnaW5nZmFjZS5jby9iZXJ0LWJhc2UtbXVsdGlsaW5ndWFsLWNhc2VkLzg3NmY1ODRmMTVlYmYxNDg4N2RlYzE3NTM5YzExNGJiOTlhMDMyZTk2YjllNzI1MDdhNTFjNDFlMjA1MzM3ZmM%7EcmVzcG9uc2UtY29udGVudC1kaXNwb3NpdGlvbj0qIn1dfQ__&Signature=DBmKRpiKERQA7ojd5DOCDvjXd59k3tecJ8JpdDxHseDawVqJpSp%7E6eweb3uZU04fWsKY34EtnvO5Jr0ww6OqsIBdOs07fEFQcqQCEXS8FlS4b%7ED0x2kfWfb%7EEoMyFioYWPZOsmXHFe13nafqOEHkwH71A2l8T9E0q1K8-NgUD5CmqZxt21eBLBNDGE2KOIn3wb%7EZ0QyYF-Jf-y-sfNQt9PxBXWN3Gy4oXkfBWo74GD7QryEOlN43BrWXnuWez%7EDx1sdZMIgluzsM3vtWsxmrNmSYpXjNW5Qy3SkF7mHMN%7EjJAH1x5EKUg7gongJO0GfjiuKMNpvMm9qsRBmq4ohE6g__&Key-Pair-Id=KVTP0A1DKRTAX: HTTPSConnectionPool(host='cdn-lfs.huggingface.co', port=443): Read timed out.\n",
      "Trying to resume download...\n",
      "WARNING:huggingface_hub.file_download:Error while downloading from https://cdn-lfs.huggingface.co/bert-base-multilingual-cased/876f584f15ebf14887dec17539c114bb99a032e96b9e72507a51c41e205337fc?response-content-disposition=attachment%3B+filename*%3DUTF-8%27%27model.safetensors%3B+filename%3D%22model.safetensors%22%3B&Expires=1717793508&Policy=eyJTdGF0ZW1lbnQiOlt7IkNvbmRpdGlvbiI6eyJEYXRlTGVzc1RoYW4iOnsiQVdTOkVwb2NoVGltZSI6MTcxNzc5MzUwOH19LCJSZXNvdXJjZSI6Imh0dHBzOi8vY2RuLWxmcy5odWdnaW5nZmFjZS5jby9iZXJ0LWJhc2UtbXVsdGlsaW5ndWFsLWNhc2VkLzg3NmY1ODRmMTVlYmYxNDg4N2RlYzE3NTM5YzExNGJiOTlhMDMyZTk2YjllNzI1MDdhNTFjNDFlMjA1MzM3ZmM%7EcmVzcG9uc2UtY29udGVudC1kaXNwb3NpdGlvbj0qIn1dfQ__&Signature=DBmKRpiKERQA7ojd5DOCDvjXd59k3tecJ8JpdDxHseDawVqJpSp%7E6eweb3uZU04fWsKY34EtnvO5Jr0ww6OqsIBdOs07fEFQcqQCEXS8FlS4b%7ED0x2kfWfb%7EEoMyFioYWPZOsmXHFe13nafqOEHkwH71A2l8T9E0q1K8-NgUD5CmqZxt21eBLBNDGE2KOIn3wb%7EZ0QyYF-Jf-y-sfNQt9PxBXWN3Gy4oXkfBWo74GD7QryEOlN43BrWXnuWez%7EDx1sdZMIgluzsM3vtWsxmrNmSYpXjNW5Qy3SkF7mHMN%7EjJAH1x5EKUg7gongJO0GfjiuKMNpvMm9qsRBmq4ohE6g__&Key-Pair-Id=KVTP0A1DKRTAX: HTTPSConnectionPool(host='cdn-lfs.huggingface.co', port=443): Read timed out.\n",
      "Trying to resume download...\n"
     ]
    },
    {
     "data": {
      "application/vnd.jupyter.widget-view+json": {
       "model_id": "b224f3c13be340deba833000d241c29d",
       "version_major": 2,
       "version_minor": 0
      },
      "text/plain": [
       "model.safetensors:  82%|########2 | 587M/714M [00:00<?, ?B/s]"
      ]
     },
     "metadata": {},
     "output_type": "display_data"
    },
    {
     "name": "stdout",
     "output_type": "stream",
     "text": [
      "(1.0, 1.0, 1.0)\n",
      "(1.0, 1.0, 1.0)\n",
      "(0.7362537980079651, 0.7373437881469727, 0.7360453605651855)\n",
      "(0.7700615525245667, 0.7711889147758484, 0.7701207399368286)\n"
     ]
    }
   ],
   "source": [
    "import bert_score\n",
    "\n",
    "def compute_bertscore(predictions, references, lang='en'):\n",
    "    P, R, F1 = bert_score.score(predictions, references, lang=lang)\n",
    "    return P.mean().item(), R.mean().item(), F1.mean().item()\n",
    "\n",
    "\n",
    "res = compute_bertscore(gpt4_urdu, google_urdu, lang='ur')\n",
    "print(res)\n",
    "\n",
    "res = compute_bertscore(gpt4_sindhi, google_sindhi, lang='sd')\n",
    "print(res)\n",
    "\n",
    "res = compute_bertscore(gpt3_urdu, google_urdu, lang='ur')\n",
    "print(res)\n",
    "\n",
    "res = compute_bertscore(gpt3_sindhi, google_sindhi, lang='sd')\n",
    "print(res)\n",
    "\n"
   ]
  }
 ],
 "metadata": {
  "kernelspec": {
   "display_name": "Python 3",
   "language": "python",
   "name": "python3"
  },
  "language_info": {
   "codemirror_mode": {
    "name": "ipython",
    "version": 3
   },
   "file_extension": ".py",
   "mimetype": "text/x-python",
   "name": "python",
   "nbconvert_exporter": "python",
   "pygments_lexer": "ipython3",
   "version": "3.10.11"
  }
 },
 "nbformat": 4,
 "nbformat_minor": 2
}
